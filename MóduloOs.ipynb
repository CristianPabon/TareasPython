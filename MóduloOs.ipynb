{
  "nbformat": 4,
  "nbformat_minor": 0,
  "metadata": {
    "colab": {
      "name": "MóduloOs.ipynb",
      "provenance": [],
      "collapsed_sections": [],
      "authorship_tag": "ABX9TyPcQJ3c4D+lp95rFjQJpmVw",
      "include_colab_link": true
    },
    "kernelspec": {
      "name": "python3",
      "display_name": "Python 3"
    },
    "language_info": {
      "name": "python"
    }
  },
  "cells": [
    {
      "cell_type": "markdown",
      "metadata": {
        "id": "view-in-github",
        "colab_type": "text"
      },
      "source": [
        "<a href=\"https://colab.research.google.com/github/CristianPabon/TareasPython/blob/main/M%C3%B3duloOs.ipynb\" target=\"_parent\"><img src=\"https://colab.research.google.com/assets/colab-badge.svg\" alt=\"Open In Colab\"/></a>"
      ]
    },
    {
      "cell_type": "markdown",
      "metadata": {
        "id": "vN7zym5e_-_l"
      },
      "source": [
        "CRISTIAN ANDRÉS PABÓN SOTO > 20192005120\n",
        "\n",
        "## Librería Estándar/ Módulo os (uos). Para manipular archivos y estructuras de directorios.\n",
        "![Python](https://miro.medium.com/max/4000/1*SSutxOFoBUaUmgeNWAPeBA.jpeg)\n",
        "\n",
        "### 1. ¿Para qué sirve?\n",
        "\n",
        "La librería **os** nos permite acceder a unidades dependientes del sistema operativo, como directorios, a partir de los cuales se podrá manipular la estructura de estos últimos. De esta manera **os** nos proporcionará de métodos funcionales con el fin de trabajar de forma simplificada y portable con el sistema operativo.\n",
        "\n",
        "#### 1.1 Algunos de los métodos más usados para el módulo de archivos y directorios.\n",
        "\n",
        "##### 1.1.1 Sobre archivos y estructura del directorio."
      ]
    },
    {
      "cell_type": "markdown",
      "metadata": {
        "id": "rS4zh850bzfV"
      },
      "source": [
        "El nombre del módulo dependiente del sistema operativo importado. Los siguientes nombres están registrados: 'posix', 'nt', 'java', (en el caso del módulo os), sin embargo, es algo más específico con el uso del módulo sys, ya que específica el nombre del sistema operativo en uso, de la siguiente manera: "
      ]
    },
    {
      "cell_type": "code",
      "metadata": {
        "id": "dQvFG1lKXv1U",
        "colab": {
          "base_uri": "https://localhost:8080/",
          "height": 35
        },
        "outputId": "cc509097-f21e-4718-a192-8b2d67810f4f"
      },
      "source": [
        "import os\n",
        "os.name"
      ],
      "execution_count": null,
      "outputs": [
        {
          "output_type": "execute_result",
          "data": {
            "application/vnd.google.colaboratory.intrinsic+json": {
              "type": "string"
            },
            "text/plain": [
              "'posix'"
            ]
          },
          "metadata": {
            "tags": []
          },
          "execution_count": 13
        }
      ]
    },
    {
      "cell_type": "code",
      "metadata": {
        "id": "xPjWfPFMb9iz",
        "colab": {
          "base_uri": "https://localhost:8080/",
          "height": 35
        },
        "outputId": "968b8e28-c150-4b01-f9fb-dded2ebfca98"
      },
      "source": [
        "import sys\n",
        "sys.platform"
      ],
      "execution_count": null,
      "outputs": [
        {
          "output_type": "execute_result",
          "data": {
            "application/vnd.google.colaboratory.intrinsic+json": {
              "type": "string"
            },
            "text/plain": [
              "'linux'"
            ]
          },
          "metadata": {
            "tags": []
          },
          "execution_count": 14
        }
      ]
    },
    {
      "cell_type": "markdown",
      "metadata": {
        "id": "lXP3wlTCeP5I"
      },
      "source": [
        "La salida que se observa en la función dada por el módulo os y sys, está dada al momento de compilar, de tal manera las diferencias principales al hacer uso de estos dos módulos, es que para el caso de sys.platform(), puede especificar cuál es la configuración del compilador definido al momento de correr una función. Por otro lado os.name(), nos brinda información que permita comprobar si ciertos módulos del sistema operativo se encuentran disponibles (tales como 'posix', 'nt','os2', 'ce' o 'java', entre otros).\n",
        "\n",
        "En conclusión;\n",
        "- Al usar os.name, podremos revisar la compatibilidad del sistema con posix, sin embargo se debe de tener en cuenta que mayormente se usan 'posix', 'nt' y 'java', debido a que python los usa desde la versión 3.4, también hay dependencia de usar 'java' o 'riscos' en python 2.7.\n",
        "\n",
        "- Al usar sys.platform, podremos revisar si el sistema de compilación está dado por linux, cygwin, darwin, atheos, entre otros."
      ]
    },
    {
      "cell_type": "markdown",
      "metadata": {
        "id": "vKexbm07eGE-"
      },
      "source": [
        "Para observar la versión del sistema a partir del módulo os, se hace uso de os.uname(), el cual retorna una 5-tupla que identifica las siguientes posiciones en la misma:\n",
        "- 0: sysname, por tanto podremos acceder al sistema de compilación sin necesidad de importar el módulo sys, desde el módulo os.\n",
        "- 1: nodename, nombre del nodo en uso, (Algunos sistemas limitan el nombre de nodo a 8 caracteres o al componente principal; una mejor manera de obtener el nombre de host es 'socket.gethostname()' o 'socket.gethostbyaddr(socket.gethostname()) )'.\n",
        "- 2: release, versión de lanzamiento en uso.\n",
        "- 3: version, fecha de la versión de lanzamiento en uso.\n",
        "- 4: machine, sistema operativo en uso dado a bits.\n",
        " \n",
        "(sysname, nodename, release, version, machine)."
      ]
    },
    {
      "cell_type": "code",
      "metadata": {
        "colab": {
          "base_uri": "https://localhost:8080/"
        },
        "id": "HGI7wdBZa7hC",
        "outputId": "5db50c3c-e43b-47e2-f270-f1b424d2ee53"
      },
      "source": [
        "os.uname()"
      ],
      "execution_count": null,
      "outputs": [
        {
          "output_type": "execute_result",
          "data": {
            "text/plain": [
              "posix.uname_result(sysname='Linux', nodename='31e60fcd5e6d', release='5.4.104+', version='#1 SMP Sat Jun 5 09:50:34 PDT 2021', machine='x86_64')"
            ]
          },
          "metadata": {
            "tags": []
          },
          "execution_count": 10
        }
      ]
    },
    {
      "cell_type": "markdown",
      "metadata": {
        "id": "v4AkQv_4rqAr"
      },
      "source": [
        "Algunos parámetros de procesos, los cuales nos proporcionan elementos de datos e información que operan en el proceso y con usuarios actuales."
      ]
    },
    {
      "cell_type": "code",
      "metadata": {
        "colab": {
          "base_uri": "https://localhost:8080/",
          "height": 35
        },
        "id": "aKKIZ7dlaCyJ",
        "outputId": "4e645b40-6bd0-437b-a1b8-5b99f94e81a7"
      },
      "source": [
        "os.ctermid()"
      ],
      "execution_count": null,
      "outputs": [
        {
          "output_type": "execute_result",
          "data": {
            "application/vnd.google.colaboratory.intrinsic+json": {
              "type": "string"
            },
            "text/plain": [
              "'/dev/tty'"
            ]
          },
          "metadata": {
            "tags": []
          },
          "execution_count": 3
        }
      ]
    },
    {
      "cell_type": "markdown",
      "metadata": {
        "id": "x6Ayq_e2siwj"
      },
      "source": [
        "El método anterior nos retorna un valor string, el cual nos informa del nombre del archivo que pertenece al terminal que controla el proceso sobre el que estamos trabajando."
      ]
    },
    {
      "cell_type": "code",
      "metadata": {
        "colab": {
          "base_uri": "https://localhost:8080/"
        },
        "id": "6tjLlsaaaJcu",
        "outputId": "33f21fa6-08b8-4d15-e7b7-ec93eb8e4b4a"
      },
      "source": [
        "os.environ"
      ],
      "execution_count": null,
      "outputs": [
        {
          "output_type": "execute_result",
          "data": {
            "text/plain": [
              "environ({'NO_GCE_CHECK': 'True', 'GCS_READ_CACHE_BLOCK_SIZE_MB': '16', 'CLOUDSDK_CONFIG': '/content/.config', 'CUDA_VERSION': '11.0.3', 'PATH': '/usr/local/nvidia/bin:/usr/local/cuda/bin:/usr/local/sbin:/usr/local/bin:/usr/sbin:/usr/bin:/sbin:/bin:/tools/node/bin:/tools/google-cloud-sdk/bin:/opt/bin', 'HOME': '/root', 'LD_LIBRARY_PATH': '/usr/local/nvidia/lib:/usr/local/nvidia/lib64', 'LANG': 'en_US.UTF-8', 'SHELL': '/bin/bash', 'LIBRARY_PATH': '/usr/local/cuda/lib64/stubs', 'SHLVL': '0', 'GCE_METADATA_TIMEOUT': '0', 'NCCL_VERSION': '2.7.8', 'NVIDIA_VISIBLE_DEVICES': 'all', 'DEBIAN_FRONTEND': 'noninteractive', 'CUDNN_VERSION': '8.0.4.30', 'LAST_FORCED_REBUILD': '20210614', 'JPY_PARENT_PID': '50', 'PYTHONPATH': '/env/python', 'DATALAB_SETTINGS_OVERRIDES': '{\"kernelManagerProxyPort\":6000,\"kernelManagerProxyHost\":\"172.28.0.3\",\"jupyterArgs\":[\"--ip=\\\\\"172.28.0.2\\\\\"\"],\"debugAdapterMultiplexerPath\":\"/usr/local/bin/dap_multiplexer\",\"enableLsp\":true}', 'ENV': '/root/.bashrc', 'GLIBCXX_FORCE_NEW': '1', 'NVIDIA_DRIVER_CAPABILITIES': 'compute,utility', 'TF_FORCE_GPU_ALLOW_GROWTH': 'true', 'LD_PRELOAD': '/usr/lib/x86_64-linux-gnu/libtcmalloc.so.4', 'NVIDIA_REQUIRE_CUDA': 'cuda>=11.0 brand=tesla,driver>=418,driver<419 brand=tesla,driver>=440,driver<441 brand=tesla,driver>=450,driver<451', 'OLDPWD': '/', 'HOSTNAME': 'd8101b09ecea', 'COLAB_GPU': '0', 'PWD': '/', 'CLOUDSDK_PYTHON': 'python3', 'GLIBCPP_FORCE_NEW': '1', 'PYTHONWARNINGS': 'ignore:::pip._internal.cli.base_command', 'TBE_CREDS_ADDR': '172.28.0.1:8008', 'TERM': 'xterm-color', 'CLICOLOR': '1', 'PAGER': 'cat', 'GIT_PAGER': 'cat', 'MPLBACKEND': 'module://ipykernel.pylab.backend_inline', 'PYDEVD_USE_FRAME_EVAL': 'NO'})"
            ]
          },
          "metadata": {
            "tags": []
          },
          "execution_count": 17
        }
      ]
    },
    {
      "cell_type": "markdown",
      "metadata": {
        "id": "zTnZ6-Q2tL0C"
      },
      "source": [
        "Este método hace referencia a las variables de entorno, las cuales nos permiten indagar en procesos de trabajo, este nos permitirá realizar una mapeado de la información que pertenece al entorno de trabajo, por ejemplo se denota environ['home'], el cual se refiere a la ruta del directorio personal (desde algunas plataformas)."
      ]
    },
    {
      "cell_type": "markdown",
      "metadata": {
        "id": "TxQhgyFjsSld"
      },
      "source": [
        "Sobre directorios."
      ]
    },
    {
      "cell_type": "markdown",
      "metadata": {
        "id": "xF0aR67mAJE0"
      },
      "source": [
        "- os.getcwd(); Se puede conocer el directorio actual.\n",
        "\n",
        "Ejemplo: "
      ]
    },
    {
      "cell_type": "code",
      "metadata": {
        "colab": {
          "base_uri": "https://localhost:8080/",
          "height": 35
        },
        "id": "_PNslU7s_9qr",
        "outputId": "a6d76eac-6750-4dff-cad3-f9cea2fe1c45"
      },
      "source": [
        "import os\n",
        "os.getcwd()"
      ],
      "execution_count": null,
      "outputs": [
        {
          "output_type": "execute_result",
          "data": {
            "application/vnd.google.colaboratory.intrinsic+json": {
              "type": "string"
            },
            "text/plain": [
              "'/content'"
            ]
          },
          "metadata": {
            "tags": []
          },
          "execution_count": 1
        }
      ]
    },
    {
      "cell_type": "markdown",
      "metadata": {
        "id": "wCn9hcQvAT0S"
      },
      "source": [
        "- os.listdir([dir]); Devuelve una lista con las entradas del directorio, sean otros subdirectorios y archivos complementarios.\n",
        "\n",
        "Ejemplo:"
      ]
    },
    {
      "cell_type": "code",
      "metadata": {
        "colab": {
          "base_uri": "https://localhost:8080/"
        },
        "id": "ND4sIKD7AUny",
        "outputId": "886fc805-c205-473b-e75a-433bfe521c53"
      },
      "source": [
        "import os\n",
        "os.listdir()"
      ],
      "execution_count": null,
      "outputs": [
        {
          "output_type": "execute_result",
          "data": {
            "text/plain": [
              "['.config', 'sample_data']"
            ]
          },
          "metadata": {
            "tags": []
          },
          "execution_count": 2
        }
      ]
    },
    {
      "cell_type": "markdown",
      "metadata": {
        "id": "wRyrH_gWAl8q"
      },
      "source": [
        "- os.mkdir(ruta); Permite crear un directorio dentro del actual.\n",
        "\n",
        "Ejemplo:"
      ]
    },
    {
      "cell_type": "code",
      "metadata": {
        "colab": {
          "base_uri": "https://localhost:8080/"
        },
        "id": "jImLd88nAxXr",
        "outputId": "9a5b410e-168c-4ad5-c790-2b2c053d5f72"
      },
      "source": [
        "import os\n",
        "os.mkdir('directorio1')\n",
        "os.mkdir('directorio2')\n",
        "os.listdir()"
      ],
      "execution_count": null,
      "outputs": [
        {
          "output_type": "execute_result",
          "data": {
            "text/plain": [
              "['.config', 'directorio1', 'directorio2', 'sample_data']"
            ]
          },
          "metadata": {
            "tags": []
          },
          "execution_count": 15
        }
      ]
    },
    {
      "cell_type": "markdown",
      "metadata": {
        "id": "mcHQiWZOBnWP"
      },
      "source": [
        "- os.chdir(ruta); Permite cambiar del directorio actual a la ruta o directorio especificado.\n",
        "\n",
        "Ejemplo:"
      ]
    },
    {
      "cell_type": "code",
      "metadata": {
        "id": "65mf9YyQBoQV",
        "colab": {
          "base_uri": "https://localhost:8080/",
          "height": 35
        },
        "outputId": "f180f812-37e1-4e5e-b48e-fe7d642ffb5f"
      },
      "source": [
        "import os\n",
        "os.chdir('directorio1')\n",
        "os.getcwd()"
      ],
      "execution_count": null,
      "outputs": [
        {
          "output_type": "execute_result",
          "data": {
            "application/vnd.google.colaboratory.intrinsic+json": {
              "type": "string"
            },
            "text/plain": [
              "'/content/directorio1'"
            ]
          },
          "metadata": {
            "tags": []
          },
          "execution_count": 40
        }
      ]
    },
    {
      "cell_type": "code",
      "metadata": {
        "id": "STogTQxOD89T",
        "colab": {
          "base_uri": "https://localhost:8080/"
        },
        "outputId": "7c9fc7eb-14dc-4545-ac37-0493236f0f85"
      },
      "source": [
        "os.chdir('/content')\n",
        "os.listdir()"
      ],
      "execution_count": null,
      "outputs": [
        {
          "output_type": "execute_result",
          "data": {
            "text/plain": [
              "['.config', 'directorio1', 'directorio2', 'sample_data']"
            ]
          },
          "metadata": {
            "tags": []
          },
          "execution_count": 41
        }
      ]
    },
    {
      "cell_type": "markdown",
      "metadata": {
        "id": "nPR4CITZESCi"
      },
      "source": [
        "- os.rmdir(*nombre*); Permite eliminar un subdirectorio perteneciente al directorio sobre el que se está trabajando.\n",
        "\n",
        "Ejemplo:"
      ]
    },
    {
      "cell_type": "code",
      "metadata": {
        "id": "r-Tcl7iqEyn0",
        "colab": {
          "base_uri": "https://localhost:8080/"
        },
        "outputId": "eda5ec19-f971-440c-ab93-68cc8b3a0d7d"
      },
      "source": [
        "import os\n",
        "os.rmdir('directorio2')\n",
        "os.listdir()"
      ],
      "execution_count": null,
      "outputs": [
        {
          "output_type": "execute_result",
          "data": {
            "text/plain": [
              "['.config', 'directorio1', 'sample_data']"
            ]
          },
          "metadata": {
            "tags": []
          },
          "execution_count": 42
        }
      ]
    },
    {
      "cell_type": "markdown",
      "metadata": {
        "id": "ripYVLyoFLem"
      },
      "source": [
        "- os.path.isfile(nombre); Permite saber si un elemento nombrado es un archivo."
      ]
    },
    {
      "cell_type": "code",
      "metadata": {
        "id": "GevkTuxHGrME",
        "colab": {
          "base_uri": "https://localhost:8080/"
        },
        "outputId": "6afb5c64-e78c-4c76-8f7a-a1ef1e591df7"
      },
      "source": [
        "import os\n",
        "os.path.isfile('directorio1')"
      ],
      "execution_count": null,
      "outputs": [
        {
          "output_type": "execute_result",
          "data": {
            "text/plain": [
              "False"
            ]
          },
          "metadata": {
            "tags": []
          },
          "execution_count": 43
        }
      ]
    },
    {
      "cell_type": "markdown",
      "metadata": {
        "id": "xbmgCl0yGzc3"
      },
      "source": [
        "- os.path.isdir(nombre); Permite saber si un elemento nombrado es un directorio/carpeta."
      ]
    },
    {
      "cell_type": "code",
      "metadata": {
        "id": "WHwXMQu_HExL",
        "colab": {
          "base_uri": "https://localhost:8080/"
        },
        "outputId": "3e72ed1e-2701-4a09-86f3-28f8520f0ebd"
      },
      "source": [
        "import os\n",
        "os.path.isdir('directorio1')"
      ],
      "execution_count": null,
      "outputs": [
        {
          "output_type": "execute_result",
          "data": {
            "text/plain": [
              "True"
            ]
          },
          "metadata": {
            "tags": []
          },
          "execution_count": 44
        }
      ]
    },
    {
      "cell_type": "markdown",
      "metadata": {
        "id": "_94yku9GHa__"
      },
      "source": [
        "- os.rename(viejo_nombre, nuevo_nombre); Permite renombrar un subdirectorio perteneciente al actual o un archivo.\n",
        "\n",
        "Ejemplo:"
      ]
    },
    {
      "cell_type": "code",
      "metadata": {
        "id": "pSXFX0Q_Hfy5",
        "colab": {
          "base_uri": "https://localhost:8080/"
        },
        "outputId": "bb40c9af-bbc6-4fe7-8398-2a7cda29688e"
      },
      "source": [
        "import os\n",
        "os.rename('directorio1','ddirectorio1')\n",
        "os.listdir()"
      ],
      "execution_count": null,
      "outputs": [
        {
          "output_type": "execute_result",
          "data": {
            "text/plain": [
              "['.config', 'ddirectorio1', 'sample_data']"
            ]
          },
          "metadata": {
            "tags": []
          },
          "execution_count": 45
        }
      ]
    },
    {
      "cell_type": "markdown",
      "metadata": {
        "id": "qPfMYn-jH4z5"
      },
      "source": [
        "- os.stat(*ruta/nombre*); Devuelve una tupla con información general de un archivo o directorio.\n",
        "  - La posición [0]; Indica si es un archivo (32768) o un directorio (16877).\n",
        "  - La posición [6]; Indica el tamaño en bits del archivo o directorio.\n",
        "  - La posición [7,8,9]; Indican la hora de modificación (en segundos, con referencia al encendido del microcontrolador, salvo que se haya establecido otra referencia de tiempo).\n",
        "\n",
        "Ejemplo:"
      ]
    },
    {
      "cell_type": "code",
      "metadata": {
        "id": "A9Zci7-gH9Ii",
        "colab": {
          "base_uri": "https://localhost:8080/"
        },
        "outputId": "46fe16ca-c14b-41ff-b2b4-611a0606ab58"
      },
      "source": [
        "import os\n",
        "os.stat('ddirectorio1')"
      ],
      "execution_count": null,
      "outputs": [
        {
          "output_type": "execute_result",
          "data": {
            "text/plain": [
              "os.stat_result(st_mode=16877, st_ino=5512094, st_dev=51, st_nlink=2, st_uid=0, st_gid=0, st_size=4096, st_atime=1628092212, st_mtime=1628092212, st_ctime=1628093582)"
            ]
          },
          "metadata": {
            "tags": []
          },
          "execution_count": 47
        }
      ]
    },
    {
      "cell_type": "markdown",
      "metadata": {
        "id": "nck_XBxiKP8R"
      },
      "source": [
        "- En caso de edición de archivos la librería os permite:\n",
        "\n",
        "1. os.remove('nombre_archivo'); Permite eliminar un archivo.\n",
        "2. os.path.getsize('nombre_archivo'); Permite ver el tamaño de un archivo."
      ]
    },
    {
      "cell_type": "code",
      "metadata": {
        "colab": {
          "base_uri": "https://localhost:8080/"
        },
        "id": "g5V7ll35d9Ie",
        "outputId": "efd4f6b6-6503-48e5-90cc-986f5ada2985"
      },
      "source": [
        "import os\n",
        "os.listdir()"
      ],
      "execution_count": null,
      "outputs": [
        {
          "output_type": "execute_result",
          "data": {
            "text/plain": [
              "['.config', 'ddirectorio1', '.ipynb_checkpoints', 'sample_data']"
            ]
          },
          "metadata": {
            "tags": []
          },
          "execution_count": 57
        }
      ]
    },
    {
      "cell_type": "code",
      "metadata": {
        "id": "faE9NFhheVkc"
      },
      "source": [
        "os.remove('text.txt') "
      ],
      "execution_count": null,
      "outputs": []
    },
    {
      "cell_type": "markdown",
      "metadata": {
        "id": "iGhovMSjIuaj"
      },
      "source": [
        "##### 1.1.2 Sobre funciones generales\n",
        "\n",
        "- os.urandom(); Devuelve un **objeto bytes** de *n* bytes aleatorios.\n",
        "\n",
        "Ejemplo:"
      ]
    },
    {
      "cell_type": "code",
      "metadata": {
        "id": "S1O2nDDiIzzc",
        "colab": {
          "base_uri": "https://localhost:8080/"
        },
        "outputId": "b7a6ac5c-4206-4588-fb2a-4f67291cdd94"
      },
      "source": [
        "import os\n",
        "\n",
        "for x in range(3):\n",
        "    result = os.urandom(3)   \n",
        "    print(result)\n"
      ],
      "execution_count": null,
      "outputs": [
        {
          "output_type": "stream",
          "text": [
            "b'g/5'\n",
            "b'w1Y'\n",
            "b'\\xfe\\x7f\\xca'\n"
          ],
          "name": "stdout"
        }
      ]
    },
    {
      "cell_type": "markdown",
      "metadata": {
        "id": "y6S5KG_eMCDK"
      },
      "source": [
        "### 2. Módulo os.path\n",
        "El módulo os.path es un submódulo aplicable a los archivos y directorios. A partir de este submódulo se podrá acceder a ciertas funcionalidades concernientes a los nombres de archivos y directorios. Las variables más destacadas y usadas son:\n"
      ]
    },
    {
      "cell_type": "markdown",
      "metadata": {
        "id": "jBBVxVgxSFpH"
      },
      "source": [
        "- os.path.abspath(path); Permite que conozcamos la ruta absoluta de un directorio o archivo, véase en caso de que sea un archivo dentro de multiples carpetas.\n",
        "\n",
        "Ejemplo:"
      ]
    },
    {
      "cell_type": "code",
      "metadata": {
        "colab": {
          "base_uri": "https://localhost:8080/"
        },
        "id": "ikq-8YZPTZD5",
        "outputId": "16e05ffb-fafb-486d-943e-85e07c2be907"
      },
      "source": [
        "import os\n",
        "\n",
        "path = 'mnist_test.csv'\n",
        "\n",
        "nombre = os.path.abspath(path)\n",
        "\n",
        "print(nombre)"
      ],
      "execution_count": null,
      "outputs": [
        {
          "output_type": "stream",
          "text": [
            "/content/mnist_test.csv\n"
          ],
          "name": "stdout"
        }
      ]
    },
    {
      "cell_type": "markdown",
      "metadata": {
        "id": "bMdClFW5Vahg"
      },
      "source": [
        "- os.path.basename(path); Permite conocer el nombre del directorio base sobre el que se encuentra el archivo."
      ]
    },
    {
      "cell_type": "code",
      "metadata": {
        "colab": {
          "base_uri": "https://localhost:8080/"
        },
        "id": "fBrWc9ieVjbi",
        "outputId": "bea168ff-fadb-45c3-8ff8-2c0788f4286d"
      },
      "source": [
        "import os\n",
        "\n",
        "path = '/content/sample_data'\n",
        "\n",
        "nombre = os.path.basename(path)\n",
        "\n",
        "print(nombre)"
      ],
      "execution_count": null,
      "outputs": [
        {
          "output_type": "stream",
          "text": [
            "sample_data\n"
          ],
          "name": "stdout"
        }
      ]
    },
    {
      "cell_type": "markdown",
      "metadata": {
        "id": "SBQYcMZNWKzr"
      },
      "source": [
        "- os.path.exists(path); Permite saber si un directorio existe."
      ]
    },
    {
      "cell_type": "code",
      "metadata": {
        "colab": {
          "base_uri": "https://localhost:8080/"
        },
        "id": "Tb9Jej8PWYf8",
        "outputId": "e41778ea-8046-43b0-b1e0-d10b7c03701e"
      },
      "source": [
        "import os\n",
        "\n",
        "path = 'ddirectorio1'\n",
        "\n",
        "nombre = os.path.exists(path)\n",
        "\n",
        "print(nombre)"
      ],
      "execution_count": null,
      "outputs": [
        {
          "output_type": "stream",
          "text": [
            "True\n"
          ],
          "name": "stdout"
        }
      ]
    },
    {
      "cell_type": "markdown",
      "metadata": {
        "id": "neqqTwQ0XBTY"
      },
      "source": [
        "- os.path.getatime(path); Permite conocer la última vez que se accedió a un directorio."
      ]
    },
    {
      "cell_type": "code",
      "metadata": {
        "colab": {
          "base_uri": "https://localhost:8080/"
        },
        "id": "0iUnT9FfXKCg",
        "outputId": "17470495-17bb-4507-d210-417e6cb9d163"
      },
      "source": [
        "import os\n",
        "\n",
        "path = 'sample_data'\n",
        "\n",
        "nombre = os.path.getatime(path)\n",
        "\n",
        "print(nombre)"
      ],
      "execution_count": null,
      "outputs": [
        {
          "output_type": "stream",
          "text": [
            "1624560075.31023\n"
          ],
          "name": "stdout"
        }
      ]
    },
    {
      "cell_type": "markdown",
      "metadata": {
        "id": "zeEtWo3jauRh"
      },
      "source": [
        "- os.path.getsize(path); Permite conocer el tamaño del directorio."
      ]
    },
    {
      "cell_type": "code",
      "metadata": {
        "colab": {
          "base_uri": "https://localhost:8080/"
        },
        "id": "xFVfxwG0bAvV",
        "outputId": "30db23c1-6390-462f-b627-be93cfe14794"
      },
      "source": [
        "import os\n",
        "\n",
        "path = 'sample_data'\n",
        "\n",
        "nombre = os.path.getsize(path)\n",
        "\n",
        "print(nombre)"
      ],
      "execution_count": null,
      "outputs": [
        {
          "output_type": "stream",
          "text": [
            "4096\n"
          ],
          "name": "stdout"
        }
      ]
    },
    {
      "cell_type": "markdown",
      "metadata": {
        "id": "tzPDYclLbLC9"
      },
      "source": [
        "- os.path.isabs(path); Permite saber si la ruta es absoluta."
      ]
    },
    {
      "cell_type": "code",
      "metadata": {
        "colab": {
          "base_uri": "https://localhost:8080/"
        },
        "id": "MaVDLnNvbofm",
        "outputId": "73ebb511-ea06-43be-8cd6-d62953d5cbac"
      },
      "source": [
        "import os\n",
        "\n",
        "path = '/content'\n",
        "\n",
        "nombre = os.path.isabs(path)\n",
        "\n",
        "print(nombre)"
      ],
      "execution_count": null,
      "outputs": [
        {
          "output_type": "stream",
          "text": [
            "True\n"
          ],
          "name": "stdout"
        }
      ]
    },
    {
      "cell_type": "code",
      "metadata": {
        "colab": {
          "base_uri": "https://localhost:8080/"
        },
        "id": "jJE12gxecDqO",
        "outputId": "226ec8bf-12db-4ceb-de88-1a31b253a545"
      },
      "source": [
        "import os\n",
        "\n",
        "path = 'sample_data'\n",
        "\n",
        "nombre = os.path.isabs(path)\n",
        "\n",
        "print(nombre)"
      ],
      "execution_count": null,
      "outputs": [
        {
          "output_type": "stream",
          "text": [
            "False\n"
          ],
          "name": "stdout"
        }
      ]
    },
    {
      "cell_type": "markdown",
      "metadata": {
        "id": "DNnHILbpUNGh"
      },
      "source": [
        "EJERCICIO\n",
        "\n",
        "Imagine que debe de hacer un proyecto con varios módulos para el mismo, por tanto, desea organizar los módulos en distintos directorios. En colab crear un cuaderno en el cual con base a la \"librería os\" desde la ruta del directorio principal:\n",
        "\n",
        "- Verifique cuál es la ruta principal sobre la que se encuentra trabajando.\n",
        "\n",
        "- Cree tres directorios (Contendrá los nombres de módulo1, módulo2, módulo3), los cuales contengan 1 archivos y un subdirectorio cada uno. (comentario1, comentario2, etc. para los archivos y observaciones para los subdirectorios)\n",
        "\n",
        "- Verifique la lista de directorios contenidos en la ruta principal antes vista.\n",
        "\n",
        "- Renombre los tres directorios antes creados a Modulación, Transición y CopiadeSeguridad, respectivamente.\n",
        "\n",
        "- Para uno de los tres directorios creados generar la tupla que contiene información general sobre el mismo.\n",
        "\n",
        "No olvidar añadir su nombre y código en el cuaderno.\n",
        "\n",
        "\n",
        "\n"
      ]
    }
  ]
}