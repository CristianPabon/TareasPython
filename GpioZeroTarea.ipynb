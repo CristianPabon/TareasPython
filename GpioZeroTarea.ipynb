{
  "nbformat": 4,
  "nbformat_minor": 0,
  "metadata": {
    "colab": {
      "name": "GpioZeroTarea.ipynb",
      "provenance": [],
      "collapsed_sections": [],
      "authorship_tag": "ABX9TyPQHwGg0vd+GZaxMEsZGKMC",
      "include_colab_link": true
    },
    "kernelspec": {
      "name": "python3",
      "display_name": "Python 3"
    },
    "language_info": {
      "name": "python"
    }
  },
  "cells": [
    {
      "cell_type": "markdown",
      "metadata": {
        "id": "view-in-github",
        "colab_type": "text"
      },
      "source": [
        "<a href=\"https://colab.research.google.com/github/CristianPabon/TareasPython/blob/main/GpioZeroTarea.ipynb\" target=\"_parent\"><img src=\"https://colab.research.google.com/assets/colab-badge.svg\" alt=\"Open In Colab\"/></a>"
      ]
    },
    {
      "cell_type": "code",
      "metadata": {
        "id": "AnrxIeKQBZ7d"
      },
      "source": [
        "from gpiozero import button\n",
        "from gpiozero import led \n",
        "from signal import pause\n",
        "\n",
        "btnR = BUTTON(2,hold_repeat = true)\n",
        "btnG = BUTTON(3,hold_repeat = true)\n",
        "btnB = BUTTON(4,hold_repeat = true)\n",
        "ledRojo = LED(14,initial_value = false)\n",
        "ledVerde = LED(15,initial_value = false)\n",
        "ledAzul = LED(18,initial_value = false)\n",
        "\n",
        "def nf1():\n",
        "  ledRojo.toggle()\n",
        "def pp1():\n",
        "  ledRojo.blink(on_time = 0.075, off_time = 0.075, n = 10)\n",
        "\n",
        "def nf2():\n",
        "  ledVerde.toggle()\n",
        "def pp2():\n",
        "  ledVerde.blink(on_time = 0.075, off_time = 0.075, n = 10)\n",
        "\n",
        "def nf3():\n",
        "  ledAzul.toggle()\n",
        "def pp3():\n",
        "  ledAzul.blink(on_time = 0.075, off_time = 0.075, n = 10)\n",
        "\n",
        "try:\n",
        "\n",
        "  btnR.when_pressed = nf1\n",
        "  btnR.when_held = pp1\n",
        "  btnG.when_pressed = nf2\n",
        "  btnG.when_held = pp2\n",
        "  btnB.when_pressed = nf3\n",
        "  btnB.when_held = pp3\n",
        "  \n",
        "  pause()\n",
        "\n",
        "finally:\n",
        "  pass"
      ],
      "execution_count": null,
      "outputs": []
    }
  ]
}