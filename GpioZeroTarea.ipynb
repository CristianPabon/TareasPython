{
  "nbformat": 4,
  "nbformat_minor": 0,
  "metadata": {
    "colab": {
      "name": "GpioZeroTarea.ipynb",
      "provenance": [],
      "collapsed_sections": [],
      "authorship_tag": "ABX9TyO3xhDOViHfTTNwmwyDSqYo",
      "include_colab_link": true
    },
    "kernelspec": {
      "name": "python3",
      "display_name": "Python 3"
    },
    "language_info": {
      "name": "python"
    }
  },
  "cells": [
    {
      "cell_type": "markdown",
      "metadata": {
        "id": "view-in-github",
        "colab_type": "text"
      },
      "source": [
        "<a href=\"https://colab.research.google.com/github/CristianPabon/TareasPython/blob/main/GpioZeroTarea.ipynb\" target=\"_parent\"><img src=\"https://colab.research.google.com/assets/colab-badge.svg\" alt=\"Open In Colab\"/></a>"
      ]
    },
    {
      "cell_type": "code",
      "metadata": {
        "id": "AnrxIeKQBZ7d"
      },
      "source": [
        "from gpiozero import Button\n",
        "from gpiozero import LED\n",
        "from signal import pause\n",
        "\n",
        "btnR = Button(2,hold_repeat = True)\n",
        "btnG = Button(3,hold_repeat = True)\n",
        "btnB = Button(4,hold_repeat = True)\n",
        "ledRojo = LED(14,initial_value = False)\n",
        "ledVerde = LED(15,initial_value = False)\n",
        "ledAzul = LED(18,initial_value = False)\n",
        "\n",
        "def nf1():\n",
        "  ledRojo.toggle()\n",
        "def pp1():\n",
        "  ledRojo.blink(on_time = 1.5, off_time = 1.5, n = 10)\n",
        "\n",
        "def nf2():\n",
        "  ledVerde.toggle()\n",
        "def pp2():\n",
        "  ledVerde.blink(on_time = 1.5, off_time = 1.5, n = 10)\n",
        "\n",
        "def nf3():\n",
        "  ledAzul.toggle()\n",
        "def pp3():\n",
        "  ledAzul.blink(on_time = 1.5, off_time = 1.5, n = 10)\n",
        "\n",
        "try:\n",
        "\n",
        "  btnR.when_pressed = nf1\n",
        "  btnR.when_held = pp1\n",
        "  btnG.when_pressed = nf2\n",
        "  btnG.when_held = pp2\n",
        "  btnB.when_pressed = nf3\n",
        "  btnB.when_held = pp3\n",
        "  \n",
        "  pause()\n",
        "\n",
        "finally:\n",
        "  pass"
      ],
      "execution_count": null,
      "outputs": []
    }
  ]
}